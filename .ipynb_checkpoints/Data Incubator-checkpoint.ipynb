{
 "cells": [
  {
   "cell_type": "markdown",
   "metadata": {},
   "source": [
    " # Data Incubator Challenge\n",
    "``` Kirubel Tadesse ```"
   ]
  },
  {
   "cell_type": "code",
   "execution_count": 2,
   "metadata": {},
   "outputs": [],
   "source": [
    "import pandas as pd\n",
    "import numpy as np\n",
    "from datetime import datetime\n",
    "\n",
    "import matplotlib.pyplot as plt\n",
    "from mpl_toolkits.mplot3d import Axes3D"
   ]
  },
  {
   "cell_type": "markdown",
   "metadata": {},
   "source": [
    "## Section 1: Members of Congress and Congressional offices receive an annual budget to spend on staff, supplies, transportation, and other expenses. Each quarter, representatives report the recipients of their expenditures. ProPublica compiles these reports into research-ready CSV files. Download the full data set. We will study the detailed (not summary) data. The full data set includes a readme text file describing the data in more detail, which may be helpful in completing this challenge. Note that there is an updated version of the 2015Q2 file in the ZIP archive; you should use this and discard the original."
   ]
  },
  {
   "cell_type": "code",
   "execution_count": 3,
   "metadata": {},
   "outputs": [],
   "source": [
    "# reading the data\n",
    "df = pd.read_csv(\"2018Q2-house-disburse-detail.csv\")"
   ]
  },
  {
   "cell_type": "code",
   "execution_count": 4,
   "metadata": {},
   "outputs": [
    {
     "data": {
      "text/html": [
       "<div>\n",
       "<table border=\"1\" class=\"dataframe\">\n",
       "  <thead>\n",
       "    <tr style=\"text-align: right;\">\n",
       "      <th></th>\n",
       "      <th>count</th>\n",
       "      <th>mean</th>\n",
       "      <th>std</th>\n",
       "      <th>min</th>\n",
       "      <th>25%</th>\n",
       "      <th>50%</th>\n",
       "      <th>75%</th>\n",
       "      <th>max</th>\n",
       "    </tr>\n",
       "  </thead>\n",
       "  <tbody>\n",
       "    <tr>\n",
       "      <th>AMOUNT</th>\n",
       "      <td>105294</td>\n",
       "      <td>11427.173682</td>\n",
       "      <td>360194.748486</td>\n",
       "      <td>-1572889.44</td>\n",
       "      <td>45.17</td>\n",
       "      <td>212.48</td>\n",
       "      <td>1025</td>\n",
       "      <td>62457223.86</td>\n",
       "    </tr>\n",
       "  </tbody>\n",
       "</table>\n",
       "</div>"
      ],
      "text/plain": [
       "                                                     count          mean  \\\n",
       "AMOUNT                                         ...  105294  11427.173682   \n",
       "\n",
       "                                                              std         min  \\\n",
       "AMOUNT                                         ...  360194.748486 -1572889.44   \n",
       "\n",
       "                                                      25%     50%   75%  \\\n",
       "AMOUNT                                         ...  45.17  212.48  1025   \n",
       "\n",
       "                                                            max  \n",
       "AMOUNT                                         ...  62457223.86  "
      ]
     },
     "execution_count": 4,
     "metadata": {},
     "output_type": "execute_result"
    }
   ],
   "source": [
    "df.describe().transpose()"
   ]
  },
  {
   "cell_type": "markdown",
   "metadata": {},
   "source": [
    "#### notice that the \"AMOUNT column contain extra space"
   ]
  },
  {
   "cell_type": "code",
   "execution_count": 5,
   "metadata": {},
   "outputs": [
    {
     "data": {
      "text/plain": [
       "Index([u'BIOGUIDE_ID', u'OFFICE', u'PROGRAM', u'SORT SUBTOTAL DESCRIPTION',\n",
       "       u'SORT SEQUENCE', u'TRANSACTION DATE', u'DATA SOURCE', u'DOCUMENT',\n",
       "       u'PAYEE', u'START DATE', u'END DATE', u'PURPOSE',\n",
       "       u'AMOUNT                                                                                                                                           '],\n",
       "      dtype='object')"
      ]
     },
     "execution_count": 5,
     "metadata": {},
     "output_type": "execute_result"
    }
   ],
   "source": [
    "df.columns"
   ]
  },
  {
   "cell_type": "code",
   "execution_count": 6,
   "metadata": {},
   "outputs": [
    {
     "data": {
      "text/plain": [
       "1203212825.6799998"
      ]
     },
     "execution_count": 6,
     "metadata": {},
     "output_type": "execute_result"
    }
   ],
   "source": [
    "df[u'AMOUNT                                                                                                                                           '].sum()"
   ]
  },
  {
   "cell_type": "markdown",
   "metadata": {},
   "source": [
    "### reassign the columns to get read off the extra space"
   ]
  },
  {
   "cell_type": "code",
   "execution_count": 7,
   "metadata": {},
   "outputs": [],
   "source": [
    "df.columns =[u'BIOGUIDE_ID', u'OFFICE', u'PROGRAM', u'SORT SUBTOTAL DESCRIPTION',\n",
    "       u'SORT SEQUENCE', u'TRANSACTION DATE', u'DATA SOURCE', u'DOCUMENT',\n",
    "       u'PAYEE', u'START DATE', u'END DATE', u'PURPOSE',\n",
    "       u'AMOUNT']"
   ]
  },
  {
   "cell_type": "markdown",
   "metadata": {},
   "source": [
    "### the total of all the payments in the dataset"
   ]
  },
  {
   "cell_type": "code",
   "execution_count": 8,
   "metadata": {},
   "outputs": [
    {
     "data": {
      "text/plain": [
       "1203212825.6799998"
      ]
     },
     "execution_count": 8,
     "metadata": {},
     "output_type": "execute_result"
    }
   ],
   "source": [
    "df[\"AMOUNT\"].sum()"
   ]
  },
  {
   "cell_type": "code",
   "execution_count": 9,
   "metadata": {},
   "outputs": [
    {
     "data": {
      "text/html": [
       "<div>\n",
       "<table border=\"1\" class=\"dataframe\">\n",
       "  <thead>\n",
       "    <tr style=\"text-align: right;\">\n",
       "      <th></th>\n",
       "      <th>BIOGUIDE_ID</th>\n",
       "      <th>OFFICE</th>\n",
       "      <th>PROGRAM</th>\n",
       "      <th>SORT SUBTOTAL DESCRIPTION</th>\n",
       "      <th>SORT SEQUENCE</th>\n",
       "      <th>TRANSACTION DATE</th>\n",
       "      <th>DATA SOURCE</th>\n",
       "      <th>DOCUMENT</th>\n",
       "      <th>PAYEE</th>\n",
       "      <th>START DATE</th>\n",
       "      <th>END DATE</th>\n",
       "      <th>PURPOSE</th>\n",
       "      <th>AMOUNT</th>\n",
       "    </tr>\n",
       "  </thead>\n",
       "  <tbody>\n",
       "    <tr>\n",
       "      <th>0</th>\n",
       "      <td>NaN</td>\n",
       "      <td>2018 OFFICE OF THE SPEAKER</td>\n",
       "      <td>OFFICIAL EXPENSES - LEADERSHIP</td>\n",
       "      <td>OTHER SERVICES</td>\n",
       "      <td>DETAIL</td>\n",
       "      <td>2018-04-16</td>\n",
       "      <td>AP</td>\n",
       "      <td>983888</td>\n",
       "      <td>CITI PCARD-TLF WISTERIA FLOWERS A</td>\n",
       "      <td>2018-03-01</td>\n",
       "      <td>2018-03-28</td>\n",
       "      <td>REPRESENTATIONAL EXPENSES</td>\n",
       "      <td>362.00</td>\n",
       "    </tr>\n",
       "    <tr>\n",
       "      <th>1</th>\n",
       "      <td>NaN</td>\n",
       "      <td>2018 OFFICE OF THE SPEAKER</td>\n",
       "      <td>OFFICIAL EXPENSES - LEADERSHIP</td>\n",
       "      <td>OTHER SERVICES</td>\n",
       "      <td>SUBTOTAL</td>\n",
       "      <td></td>\n",
       "      <td></td>\n",
       "      <td></td>\n",
       "      <td></td>\n",
       "      <td></td>\n",
       "      <td></td>\n",
       "      <td>OTHER SERVICES TOTALS:</td>\n",
       "      <td>362.00</td>\n",
       "    </tr>\n",
       "    <tr>\n",
       "      <th>2</th>\n",
       "      <td>NaN</td>\n",
       "      <td>2018 OFFICE OF THE SPEAKER</td>\n",
       "      <td>OFFICIAL EXPENSES - LEADERSHIP</td>\n",
       "      <td>OTHER SERVICES</td>\n",
       "      <td>SUBTOTAL</td>\n",
       "      <td></td>\n",
       "      <td></td>\n",
       "      <td></td>\n",
       "      <td></td>\n",
       "      <td></td>\n",
       "      <td></td>\n",
       "      <td>OFFICIAL EXPENSES - LEADERSHIP TOTALS:</td>\n",
       "      <td>362.00</td>\n",
       "    </tr>\n",
       "    <tr>\n",
       "      <th>3</th>\n",
       "      <td>NaN</td>\n",
       "      <td>2018 OFFICE OF THE SPEAKER</td>\n",
       "      <td>GENERAL EXPENDITURES</td>\n",
       "      <td>FRANKED MAIL</td>\n",
       "      <td>DETAIL</td>\n",
       "      <td>2018-06-26</td>\n",
       "      <td>AP</td>\n",
       "      <td>998542</td>\n",
       "      <td>UNITED STATES POSTAL SERVICE</td>\n",
       "      <td>2018-05-01</td>\n",
       "      <td>2018-05-31</td>\n",
       "      <td>FRANKED MAIL</td>\n",
       "      <td>133.07</td>\n",
       "    </tr>\n",
       "    <tr>\n",
       "      <th>4</th>\n",
       "      <td>NaN</td>\n",
       "      <td>2018 OFFICE OF THE SPEAKER</td>\n",
       "      <td>GENERAL EXPENDITURES</td>\n",
       "      <td>FRANKED MAIL</td>\n",
       "      <td>SUBTOTAL</td>\n",
       "      <td></td>\n",
       "      <td></td>\n",
       "      <td></td>\n",
       "      <td></td>\n",
       "      <td></td>\n",
       "      <td></td>\n",
       "      <td>FRANKED MAIL TOTALS:</td>\n",
       "      <td>133.07</td>\n",
       "    </tr>\n",
       "  </tbody>\n",
       "</table>\n",
       "</div>"
      ],
      "text/plain": [
       "  BIOGUIDE_ID                      OFFICE                         PROGRAM  \\\n",
       "0         NaN  2018 OFFICE OF THE SPEAKER  OFFICIAL EXPENSES - LEADERSHIP   \n",
       "1         NaN  2018 OFFICE OF THE SPEAKER  OFFICIAL EXPENSES - LEADERSHIP   \n",
       "2         NaN  2018 OFFICE OF THE SPEAKER  OFFICIAL EXPENSES - LEADERSHIP   \n",
       "3         NaN  2018 OFFICE OF THE SPEAKER            GENERAL EXPENDITURES   \n",
       "4         NaN  2018 OFFICE OF THE SPEAKER            GENERAL EXPENDITURES   \n",
       "\n",
       "  SORT SUBTOTAL DESCRIPTION SORT SEQUENCE TRANSACTION DATE DATA SOURCE  \\\n",
       "0            OTHER SERVICES        DETAIL       2018-04-16          AP   \n",
       "1            OTHER SERVICES      SUBTOTAL                                \n",
       "2            OTHER SERVICES      SUBTOTAL                                \n",
       "3              FRANKED MAIL        DETAIL       2018-06-26          AP   \n",
       "4              FRANKED MAIL      SUBTOTAL                                \n",
       "\n",
       "  DOCUMENT                              PAYEE  START DATE    END DATE  \\\n",
       "0   983888  CITI PCARD-TLF WISTERIA FLOWERS A  2018-03-01  2018-03-28   \n",
       "1                                                                       \n",
       "2                                                                       \n",
       "3   998542       UNITED STATES POSTAL SERVICE  2018-05-01  2018-05-31   \n",
       "4                                                                       \n",
       "\n",
       "                                  PURPOSE  AMOUNT  \n",
       "0               REPRESENTATIONAL EXPENSES  362.00  \n",
       "1                  OTHER SERVICES TOTALS:  362.00  \n",
       "2  OFFICIAL EXPENSES - LEADERSHIP TOTALS:  362.00  \n",
       "3                            FRANKED MAIL  133.07  \n",
       "4                    FRANKED MAIL TOTALS:  133.07  "
      ]
     },
     "execution_count": 9,
     "metadata": {},
     "output_type": "execute_result"
    }
   ],
   "source": [
    "df.head()"
   ]
  },
  {
   "cell_type": "code",
   "execution_count": 10,
   "metadata": {},
   "outputs": [],
   "source": [
    "df['END']= pd.to_datetime(df['END DATE'].replace('   ', np.nan),format='%Y-%m-%d') #, errors='ignore')\n",
    "\n",
    "#df['END DATE'] = pd.to_datetime(df[u'END DATE'])\n",
    "\n",
    "df[u'START'] = pd.to_datetime(df[u'START DATE'].replace('   ', np.nan), format='%Y-%m-%d')#, errors='ignore')\n",
    "# for each in df['END']:\n",
    "#     datetime.strptime(each, '%Y-%m-%d')\n",
    "\n",
    "df['COVERAGE PERIOD']=(df['END'] - df[u'START'])"
   ]
  },
  {
   "cell_type": "code",
   "execution_count": null,
   "metadata": {},
   "outputs": [],
   "source": []
  },
  {
   "cell_type": "markdown",
   "metadata": {},
   "source": [
    "### Standard Deviation"
   ]
  },
  {
   "cell_type": "code",
   "execution_count": 11,
   "metadata": {},
   "outputs": [
    {
     "data": {
      "text/plain": [
       "BIOGUIDE_ID                   81602\n",
       "OFFICE                       101979\n",
       "PROGRAM                      101979\n",
       "SORT SUBTOTAL DESCRIPTION    101979\n",
       "SORT SEQUENCE                101979\n",
       "TRANSACTION DATE             101977\n",
       "DATA SOURCE                  101979\n",
       "DOCUMENT                     101979\n",
       "PAYEE                        101979\n",
       "START DATE                   101977\n",
       "END DATE                     101977\n",
       "PURPOSE                      101979\n",
       "AMOUNT                       101979\n",
       "END                           94787\n",
       "START                         94787\n",
       "COVERAGE PERIOD               94787\n",
       "dtype: int64"
      ]
     },
     "execution_count": 11,
     "metadata": {},
     "output_type": "execute_result"
    }
   ],
   "source": [
    "df[(df[\"AMOUNT\"] > 0)].count()"
   ]
  },
  {
   "cell_type": "code",
   "execution_count": 12,
   "metadata": {},
   "outputs": [],
   "source": [
    "df['STD'] = pd.rolling_std(df['COVERAGE PERIOD'], 94787, min_periods=1).sum()/97854"
   ]
  },
  {
   "cell_type": "code",
   "execution_count": 13,
   "metadata": {},
   "outputs": [
    {
     "data": {
      "text/html": [
       "<div>\n",
       "<table border=\"1\" class=\"dataframe\">\n",
       "  <thead>\n",
       "    <tr style=\"text-align: right;\">\n",
       "      <th></th>\n",
       "      <th>count</th>\n",
       "      <th>mean</th>\n",
       "      <th>std</th>\n",
       "      <th>min</th>\n",
       "      <th>25%</th>\n",
       "      <th>50%</th>\n",
       "      <th>75%</th>\n",
       "      <th>max</th>\n",
       "    </tr>\n",
       "  </thead>\n",
       "  <tbody>\n",
       "    <tr>\n",
       "      <th>AMOUNT</th>\n",
       "      <td>105294</td>\n",
       "      <td>11427.2</td>\n",
       "      <td>360195</td>\n",
       "      <td>-1.57289e+06</td>\n",
       "      <td>45.17</td>\n",
       "      <td>212.48</td>\n",
       "      <td>1025</td>\n",
       "      <td>6.24572e+07</td>\n",
       "    </tr>\n",
       "    <tr>\n",
       "      <th>COVERAGE PERIOD</th>\n",
       "      <td>97854</td>\n",
       "      <td>27 days 02:27:16.544239</td>\n",
       "      <td>91 days 13:39:16.168718</td>\n",
       "      <td>0 days 00:00:00</td>\n",
       "      <td>1 days 00:00:00</td>\n",
       "      <td>29 days 00:00:00</td>\n",
       "      <td>30 days 00:00:00</td>\n",
       "      <td>25567 days 00:00:00</td>\n",
       "    </tr>\n",
       "    <tr>\n",
       "      <th>STD</th>\n",
       "      <td>105294</td>\n",
       "      <td>2.59588e+18</td>\n",
       "      <td>0</td>\n",
       "      <td>2.59588e+18</td>\n",
       "      <td>2.59588e+18</td>\n",
       "      <td>2.59588e+18</td>\n",
       "      <td>2.59588e+18</td>\n",
       "      <td>2.59588e+18</td>\n",
       "    </tr>\n",
       "  </tbody>\n",
       "</table>\n",
       "</div>"
      ],
      "text/plain": [
       "                  count                     mean                      std  \\\n",
       "AMOUNT           105294                  11427.2                   360195   \n",
       "COVERAGE PERIOD   97854  27 days 02:27:16.544239  91 days 13:39:16.168718   \n",
       "STD              105294              2.59588e+18                        0   \n",
       "\n",
       "                             min              25%               50%  \\\n",
       "AMOUNT              -1.57289e+06            45.17            212.48   \n",
       "COVERAGE PERIOD  0 days 00:00:00  1 days 00:00:00  29 days 00:00:00   \n",
       "STD                  2.59588e+18      2.59588e+18       2.59588e+18   \n",
       "\n",
       "                              75%                  max  \n",
       "AMOUNT                       1025          6.24572e+07  \n",
       "COVERAGE PERIOD  30 days 00:00:00  25567 days 00:00:00  \n",
       "STD                   2.59588e+18          2.59588e+18  "
      ]
     },
     "execution_count": 13,
     "metadata": {},
     "output_type": "execute_result"
    }
   ],
   "source": [
    "df.describe().transpose()"
   ]
  },
  {
   "cell_type": "code",
   "execution_count": 14,
   "metadata": {},
   "outputs": [
    {
     "name": "stderr",
     "output_type": "stream",
     "text": [
      "/usr/local/lib/python2.7/dist-packages/matplotlib/__init__.py:830: MatplotlibDeprecationWarning: axes.color_cycle is deprecated and replaced with axes.prop_cycle; please use the latter.\n",
      "  mplDeprecation)\n"
     ]
    },
    {
     "data": {
      "text/plain": [
       "<matplotlib.axes._subplots.AxesSubplot at 0x7f5ced245c50>"
      ]
     },
     "execution_count": 14,
     "metadata": {},
     "output_type": "execute_result"
    },
    {
     "data": {
      "image/png": "[encoded data removed]",
      "text/plain": [
       "<matplotlib.figure.Figure at 0x7f5ced245fd0>"
      ]
     },
     "metadata": {},
     "output_type": "display_data"
    }
   ],
   "source": [
    "df['STD'].plot()"
   ]
  },
  {
   "cell_type": "code",
   "execution_count": 15,
   "metadata": {},
   "outputs": [
    {
     "data": {
      "text/html": [
       "<div>\n",
       "<table border=\"1\" class=\"dataframe\">\n",
       "  <thead>\n",
       "    <tr style=\"text-align: right;\">\n",
       "      <th></th>\n",
       "      <th>BIOGUIDE_ID</th>\n",
       "      <th>OFFICE</th>\n",
       "      <th>PROGRAM</th>\n",
       "      <th>SORT SUBTOTAL DESCRIPTION</th>\n",
       "      <th>SORT SEQUENCE</th>\n",
       "      <th>TRANSACTION DATE</th>\n",
       "      <th>DATA SOURCE</th>\n",
       "      <th>DOCUMENT</th>\n",
       "      <th>PAYEE</th>\n",
       "      <th>START DATE</th>\n",
       "      <th>END DATE</th>\n",
       "      <th>PURPOSE</th>\n",
       "      <th>AMOUNT</th>\n",
       "      <th>END</th>\n",
       "      <th>START</th>\n",
       "      <th>COVERAGE PERIOD</th>\n",
       "      <th>STD</th>\n",
       "    </tr>\n",
       "  </thead>\n",
       "  <tbody>\n",
       "    <tr>\n",
       "      <th>0</th>\n",
       "      <td>NaN</td>\n",
       "      <td>2018 OFFICE OF THE SPEAKER</td>\n",
       "      <td>OFFICIAL EXPENSES - LEADERSHIP</td>\n",
       "      <td>OTHER SERVICES</td>\n",
       "      <td>DETAIL</td>\n",
       "      <td>2018-04-16</td>\n",
       "      <td>AP</td>\n",
       "      <td>983888</td>\n",
       "      <td>CITI PCARD-TLF WISTERIA FLOWERS A</td>\n",
       "      <td>2018-03-01</td>\n",
       "      <td>2018-03-28</td>\n",
       "      <td>REPRESENTATIONAL EXPENSES</td>\n",
       "      <td>362.00</td>\n",
       "      <td>2018-03-28</td>\n",
       "      <td>2018-03-01</td>\n",
       "      <td>27 days</td>\n",
       "      <td>2.595879e+18</td>\n",
       "    </tr>\n",
       "    <tr>\n",
       "      <th>1</th>\n",
       "      <td>NaN</td>\n",
       "      <td>2018 OFFICE OF THE SPEAKER</td>\n",
       "      <td>OFFICIAL EXPENSES - LEADERSHIP</td>\n",
       "      <td>OTHER SERVICES</td>\n",
       "      <td>SUBTOTAL</td>\n",
       "      <td></td>\n",
       "      <td></td>\n",
       "      <td></td>\n",
       "      <td></td>\n",
       "      <td></td>\n",
       "      <td></td>\n",
       "      <td>OTHER SERVICES TOTALS:</td>\n",
       "      <td>362.00</td>\n",
       "      <td>NaT</td>\n",
       "      <td>NaT</td>\n",
       "      <td>NaT</td>\n",
       "      <td>2.595879e+18</td>\n",
       "    </tr>\n",
       "    <tr>\n",
       "      <th>2</th>\n",
       "      <td>NaN</td>\n",
       "      <td>2018 OFFICE OF THE SPEAKER</td>\n",
       "      <td>OFFICIAL EXPENSES - LEADERSHIP</td>\n",
       "      <td>OTHER SERVICES</td>\n",
       "      <td>SUBTOTAL</td>\n",
       "      <td></td>\n",
       "      <td></td>\n",
       "      <td></td>\n",
       "      <td></td>\n",
       "      <td></td>\n",
       "      <td></td>\n",
       "      <td>OFFICIAL EXPENSES - LEADERSHIP TOTALS:</td>\n",
       "      <td>362.00</td>\n",
       "      <td>NaT</td>\n",
       "      <td>NaT</td>\n",
       "      <td>NaT</td>\n",
       "      <td>2.595879e+18</td>\n",
       "    </tr>\n",
       "    <tr>\n",
       "      <th>3</th>\n",
       "      <td>NaN</td>\n",
       "      <td>2018 OFFICE OF THE SPEAKER</td>\n",
       "      <td>GENERAL EXPENDITURES</td>\n",
       "      <td>FRANKED MAIL</td>\n",
       "      <td>DETAIL</td>\n",
       "      <td>2018-06-26</td>\n",
       "      <td>AP</td>\n",
       "      <td>998542</td>\n",
       "      <td>UNITED STATES POSTAL SERVICE</td>\n",
       "      <td>2018-05-01</td>\n",
       "      <td>2018-05-31</td>\n",
       "      <td>FRANKED MAIL</td>\n",
       "      <td>133.07</td>\n",
       "      <td>2018-05-31</td>\n",
       "      <td>2018-05-01</td>\n",
       "      <td>30 days</td>\n",
       "      <td>2.595879e+18</td>\n",
       "    </tr>\n",
       "    <tr>\n",
       "      <th>4</th>\n",
       "      <td>NaN</td>\n",
       "      <td>2018 OFFICE OF THE SPEAKER</td>\n",
       "      <td>GENERAL EXPENDITURES</td>\n",
       "      <td>FRANKED MAIL</td>\n",
       "      <td>SUBTOTAL</td>\n",
       "      <td></td>\n",
       "      <td></td>\n",
       "      <td></td>\n",
       "      <td></td>\n",
       "      <td></td>\n",
       "      <td></td>\n",
       "      <td>FRANKED MAIL TOTALS:</td>\n",
       "      <td>133.07</td>\n",
       "      <td>NaT</td>\n",
       "      <td>NaT</td>\n",
       "      <td>NaT</td>\n",
       "      <td>2.595879e+18</td>\n",
       "    </tr>\n",
       "  </tbody>\n",
       "</table>\n",
       "</div>"
      ],
      "text/plain": [
       "  BIOGUIDE_ID                      OFFICE                         PROGRAM  \\\n",
       "0         NaN  2018 OFFICE OF THE SPEAKER  OFFICIAL EXPENSES - LEADERSHIP   \n",
       "1         NaN  2018 OFFICE OF THE SPEAKER  OFFICIAL EXPENSES - LEADERSHIP   \n",
       "2         NaN  2018 OFFICE OF THE SPEAKER  OFFICIAL EXPENSES - LEADERSHIP   \n",
       "3         NaN  2018 OFFICE OF THE SPEAKER            GENERAL EXPENDITURES   \n",
       "4         NaN  2018 OFFICE OF THE SPEAKER            GENERAL EXPENDITURES   \n",
       "\n",
       "  SORT SUBTOTAL DESCRIPTION SORT SEQUENCE TRANSACTION DATE DATA SOURCE  \\\n",
       "0            OTHER SERVICES        DETAIL       2018-04-16          AP   \n",
       "1            OTHER SERVICES      SUBTOTAL                                \n",
       "2            OTHER SERVICES      SUBTOTAL                                \n",
       "3              FRANKED MAIL        DETAIL       2018-06-26          AP   \n",
       "4              FRANKED MAIL      SUBTOTAL                                \n",
       "\n",
       "  DOCUMENT                              PAYEE  START DATE    END DATE  \\\n",
       "0   983888  CITI PCARD-TLF WISTERIA FLOWERS A  2018-03-01  2018-03-28   \n",
       "1                                                                       \n",
       "2                                                                       \n",
       "3   998542       UNITED STATES POSTAL SERVICE  2018-05-01  2018-05-31   \n",
       "4                                                                       \n",
       "\n",
       "                                  PURPOSE  AMOUNT        END      START  \\\n",
       "0               REPRESENTATIONAL EXPENSES  362.00 2018-03-28 2018-03-01   \n",
       "1                  OTHER SERVICES TOTALS:  362.00        NaT        NaT   \n",
       "2  OFFICIAL EXPENSES - LEADERSHIP TOTALS:  362.00        NaT        NaT   \n",
       "3                            FRANKED MAIL  133.07 2018-05-31 2018-05-01   \n",
       "4                    FRANKED MAIL TOTALS:  133.07        NaT        NaT   \n",
       "\n",
       "   COVERAGE PERIOD           STD  \n",
       "0          27 days  2.595879e+18  \n",
       "1              NaT  2.595879e+18  \n",
       "2              NaT  2.595879e+18  \n",
       "3          30 days  2.595879e+18  \n",
       "4              NaT  2.595879e+18  "
      ]
     },
     "execution_count": 15,
     "metadata": {},
     "output_type": "execute_result"
    }
   ],
   "source": [
    "df.head()"
   ]
  },
  {
   "cell_type": "markdown",
   "metadata": {},
   "source": [
    "### What was the average annual expenditure with between \"STARET DATE\" AND INCLDUSIVE \"END DATE\""
   ]
  },
  {
   "cell_type": "code",
   "execution_count": 16,
   "metadata": {},
   "outputs": [],
   "source": [
    "START_DATE = datetime.strptime('2010-01-01','%Y-%m-%d')\n",
    "\n",
    "END_DATE = datetime.strptime('2016-12-31','%Y-%m-%d')\n",
    "\n",
    "# creating a mask with the required values\n",
    "mask = (df['START'] >START_DATE) &(df['END'] <= END_DATE) &(df['AMOUNT'] > 1)"
   ]
  },
  {
   "cell_type": "code",
   "execution_count": 17,
   "metadata": {},
   "outputs": [],
   "source": [
    "# assigning the value\n",
    "data = df.loc[mask]"
   ]
  },
  {
   "cell_type": "code",
   "execution_count": 18,
   "metadata": {},
   "outputs": [
    {
     "data": {
      "text/plain": [
       "5478.1883333333326"
      ]
     },
     "execution_count": 18,
     "metadata": {},
     "output_type": "execute_result"
    }
   ],
   "source": [
    "# the average annual expenditure\n",
    "data['AMOUNT'].sum()/12"
   ]
  },
  {
   "cell_type": "markdown",
   "metadata": {},
   "source": [
    "### Find the 'OFFICE' with the highest total expenditures with a 'START DATE' and 'PURPOSE' that accounts for the highest total expenditures. What fraction of the total expenditures (all records, all offices) with a 'START DATE' in 2016 do the expenditures amount to?"
   ]
  },
  {
   "cell_type": "code",
   "execution_count": 19,
   "metadata": {},
   "outputs": [
    {
     "name": "stdout",
     "output_type": "stream",
     "text": [
      "                     OFFICE                       PURPOSE  AMOUNT\n",
      "0  2015 COMMITTEE ON BUDGET  MISCELLANEOUS OTHER SERVICES  104515\n",
      "\n",
      "\n",
      " the total amount 300800165.71\n",
      "here is the fraction:  0    0.000347\n",
      "Name: AMOUNT, dtype: float64\n"
     ]
    }
   ],
   "source": [
    "START_DATE = datetime.strptime('2016-01-01','%Y-%m-%d')\n",
    "# creating a mask\n",
    "mask = (df['START'] > START_DATE)\n",
    "\n",
    "# seleck the data with the mask\n",
    "data = df[mask]\n",
    "# data1 = df.loc[mask]\n",
    "# data1.loc[data1['AMOUNT'].idxmax()]\n",
    "# data1['AMOUNT'].max()\n",
    "\n",
    "# groupby the required information and select the first row\n",
    "print data.groupby(['OFFICE','PURPOSE'], as_index=False)['AMOUNT'].max()[:1]\n",
    "amount = data.groupby(['OFFICE','PURPOSE'], as_index=False)['AMOUNT'].max()[:1][\"AMOUNT\"]\n",
    "print '\\n'\n",
    "total = data['AMOUNT'].sum()\n",
    "print \" the total amount\",data['AMOUNT'].sum()\n",
    "\n",
    "#the fraction of the high amount to total ammount (high amount)/ (total amount)\n",
    "print \"here is the fraction: \", amount/total\n"
   ]
  },
  {
   "cell_type": "markdown",
   "metadata": {},
   "source": [
    "### What was the highest average staff salary among all representatives in 2016? Assume staff sizes is equal to the number of unique payees in the 'PERSONNEL COMPENSATION' category for each representative."
   ]
  },
  {
   "cell_type": "code",
   "execution_count": 45,
   "metadata": {},
   "outputs": [],
   "source": [
    "# getting the number of staff\n",
    "staff = pd.DataFrame(data = df[mask]['PAYEE'].unique())\n",
    "\n",
    "# gettting the staff size\n",
    "staff_sizes = staff.count()\n",
    "\n",
    "#df[mask]\n",
    "\n",
    "# df_payee = pd.DataFrame(data=(df[mask].groupby(['PAYEE'], as_index=False)))\n",
    "\n",
    "# Assuming the staff sizes is equal to the number of unique payess\n",
    "# df_payee\n",
    "# print df_payee.unique()\n",
    "#['AMOUNT'].max()"
   ]
  },
  {
   "cell_type": "code",
   "execution_count": null,
   "metadata": {},
   "outputs": [],
   "source": []
  },
  {
   "cell_type": "markdown",
   "metadata": {},
   "source": []
  },
  {
   "cell_type": "markdown",
   "metadata": {},
   "source": [
    "## Section 2: You have a deck with N different playing cards, equally distributed amongst M suits. You draw all cards without putting any back in the deck. After drawing the first card, you compare the suit of each subsequent card drawn with the suit of the card drawn immediately before. If the suits match, you get a point. Otherwise, you get no points. Please answer the following questions about the total number of points, P, at the end of the process."
   ]
  },
  {
   "cell_type": "code",
   "execution_count": null,
   "metadata": {},
   "outputs": [],
   "source": []
  },
  {
   "cell_type": "code",
   "execution_count": null,
   "metadata": {},
   "outputs": [],
   "source": []
  },
  {
   "cell_type": "code",
   "execution_count": null,
   "metadata": {},
   "outputs": [],
   "source": []
  },
  {
   "cell_type": "code",
   "execution_count": null,
   "metadata": {},
   "outputs": [],
   "source": []
  },
  {
   "cell_type": "code",
   "execution_count": null,
   "metadata": {},
   "outputs": [],
   "source": []
  },
  {
   "cell_type": "code",
   "execution_count": null,
   "metadata": {},
   "outputs": [],
   "source": []
  },
  {
   "cell_type": "code",
   "execution_count": null,
   "metadata": {},
   "outputs": [],
   "source": []
  }
 ],
 "metadata": {
  "kernelspec": {
   "display_name": "Python 2",
   "language": "python",
   "name": "python2"
  },
  "language_info": {
   "codemirror_mode": {
    "name": "ipython",
    "version": 2
   },
   "file_extension": ".py",
   "mimetype": "text/x-python",
   "name": "python",
   "nbconvert_exporter": "python",
   "pygments_lexer": "ipython2",
   "version": "2.7.12"
  }
 },
 "nbformat": 4,
 "nbformat_minor": 2
}
