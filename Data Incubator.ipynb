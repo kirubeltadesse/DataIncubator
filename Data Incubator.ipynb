{
 "cells": [
  {
   "cell_type": "markdown",
   "metadata": {},
   "source": [
    " # Data Incubator Challenge\n",
    "``` Kirubel Tadesse ```"
   ]
  },
  {
   "cell_type": "code",
   "execution_count": 1,
   "metadata": {},
   "outputs": [],
   "source": [
    "import pandas as pd\n",
    "import numpy as np\n",
    "from datetime import datetime\n",
    "\n",
    "import matplotlib.pyplot as plt\n",
    "from mpl_toolkits.mplot3d import Axes3D"
   ]
  },
  {
   "cell_type": "markdown",
   "metadata": {},
   "source": [
    "## Section 1: Members of Congress and Congressional offices receive an annual budget to spend on staff, supplies, transportation, and other expenses. Each quarter, representatives report the recipients of their expenditures. ProPublica compiles these reports into research-ready CSV files. Download the full data set. We will study the detailed (not summary) data. The full data set includes a readme text file describing the data in more detail, which may be helpful in completing this challenge. Note that there is an updated version of the 2015Q2 file in the ZIP archive; you should use this and discard the original."
   ]
  },
  {
   "cell_type": "code",
   "execution_count": 2,
   "metadata": {},
   "outputs": [],
   "source": [
    "# reading the data\n",
    "df = pd.read_csv(\"2018Q2-house-disburse-detail.csv\")"
   ]
  },
  {
   "cell_type": "code",
   "execution_count": 3,
   "metadata": {},
   "outputs": [
    {
     "data": {
      "text/html": [
       "<div>\n",
       "<style scoped>\n",
       "    .dataframe tbody tr th:only-of-type {\n",
       "        vertical-align: middle;\n",
       "    }\n",
       "\n",
       "    .dataframe tbody tr th {\n",
       "        vertical-align: top;\n",
       "    }\n",
       "\n",
       "    .dataframe thead th {\n",
       "        text-align: right;\n",
       "    }\n",
       "</style>\n",
       "<table border=\"1\" class=\"dataframe\">\n",
       "  <thead>\n",
       "    <tr style=\"text-align: right;\">\n",
       "      <th></th>\n",
       "      <th>count</th>\n",
       "      <th>mean</th>\n",
       "      <th>std</th>\n",
       "      <th>min</th>\n",
       "      <th>25%</th>\n",
       "      <th>50%</th>\n",
       "      <th>75%</th>\n",
       "      <th>max</th>\n",
       "    </tr>\n",
       "  </thead>\n",
       "  <tbody>\n",
       "    <tr>\n",
       "      <th>AMOUNT</th>\n",
       "      <td>105294.0</td>\n",
       "      <td>11427.173682</td>\n",
       "      <td>360194.748486</td>\n",
       "      <td>-1572889.44</td>\n",
       "      <td>45.17</td>\n",
       "      <td>212.48</td>\n",
       "      <td>1025.0</td>\n",
       "      <td>62457223.86</td>\n",
       "    </tr>\n",
       "  </tbody>\n",
       "</table>\n",
       "</div>"
      ],
      "text/plain": [
       "                                                       count          mean  \\\n",
       "AMOUNT                                         ...  105294.0  11427.173682   \n",
       "\n",
       "                                                              std         min  \\\n",
       "AMOUNT                                         ...  360194.748486 -1572889.44   \n",
       "\n",
       "                                                      25%     50%     75%  \\\n",
       "AMOUNT                                         ...  45.17  212.48  1025.0   \n",
       "\n",
       "                                                            max  \n",
       "AMOUNT                                         ...  62457223.86  "
      ]
     },
     "execution_count": 3,
     "metadata": {},
     "output_type": "execute_result"
    }
   ],
   "source": [
    "df.describe().transpose()"
   ]
  },
  {
   "cell_type": "markdown",
   "metadata": {},
   "source": [
    "#### notice that the \"AMOUNT column contain extra space"
   ]
  },
  {
   "cell_type": "code",
   "execution_count": 31,
   "metadata": {},
   "outputs": [
    {
     "data": {
      "text/plain": [
       "Index(['BIOGUIDE_ID', 'OFFICE', 'PROGRAM', 'SORT SUBTOTAL DESCRIPTION',\n",
       "       'SORT SEQUENCE', 'TRANSACTION DATE', 'DATA SOURCE', 'DOCUMENT', 'PAYEE',\n",
       "       'START DATE', 'END DATE', 'PURPOSE', 'AMOUNT', 'END', 'START',\n",
       "       'COVERAGE PERIOD'],\n",
       "      dtype='object')"
      ]
     },
     "execution_count": 31,
     "metadata": {},
     "output_type": "execute_result"
    }
   ],
   "source": [
    "df.columns"
   ]
  },
  {
   "cell_type": "code",
   "execution_count": 5,
   "metadata": {},
   "outputs": [
    {
     "data": {
      "text/plain": [
       "1203212825.6799998"
      ]
     },
     "execution_count": 5,
     "metadata": {},
     "output_type": "execute_result"
    }
   ],
   "source": [
    "df[u'AMOUNT                                                                                                                                           '].sum()"
   ]
  },
  {
   "cell_type": "markdown",
   "metadata": {},
   "source": [
    "### reassign the columns to get read off the extra space"
   ]
  },
  {
   "cell_type": "code",
   "execution_count": 6,
   "metadata": {},
   "outputs": [],
   "source": [
    "df.columns =[u'BIOGUIDE_ID', u'OFFICE', u'PROGRAM', u'SORT SUBTOTAL DESCRIPTION',\n",
    "       u'SORT SEQUENCE', u'TRANSACTION DATE', u'DATA SOURCE', u'DOCUMENT',\n",
    "       u'PAYEE', u'START DATE', u'END DATE', u'PURPOSE',\n",
    "       u'AMOUNT']"
   ]
  },
  {
   "cell_type": "markdown",
   "metadata": {},
   "source": [
    "### the total of all the payments in the dataset"
   ]
  },
  {
   "cell_type": "code",
   "execution_count": 7,
   "metadata": {},
   "outputs": [
    {
     "data": {
      "text/plain": [
       "1203212825.6799998"
      ]
     },
     "execution_count": 7,
     "metadata": {},
     "output_type": "execute_result"
    }
   ],
   "source": [
    "df[\"AMOUNT\"].sum()"
   ]
  },
  {
   "cell_type": "code",
   "execution_count": 8,
   "metadata": {},
   "outputs": [
    {
     "data": {
      "text/html": [
       "<div>\n",
       "<style scoped>\n",
       "    .dataframe tbody tr th:only-of-type {\n",
       "        vertical-align: middle;\n",
       "    }\n",
       "\n",
       "    .dataframe tbody tr th {\n",
       "        vertical-align: top;\n",
       "    }\n",
       "\n",
       "    .dataframe thead th {\n",
       "        text-align: right;\n",
       "    }\n",
       "</style>\n",
       "<table border=\"1\" class=\"dataframe\">\n",
       "  <thead>\n",
       "    <tr style=\"text-align: right;\">\n",
       "      <th></th>\n",
       "      <th>BIOGUIDE_ID</th>\n",
       "      <th>OFFICE</th>\n",
       "      <th>PROGRAM</th>\n",
       "      <th>SORT SUBTOTAL DESCRIPTION</th>\n",
       "      <th>SORT SEQUENCE</th>\n",
       "      <th>TRANSACTION DATE</th>\n",
       "      <th>DATA SOURCE</th>\n",
       "      <th>DOCUMENT</th>\n",
       "      <th>PAYEE</th>\n",
       "      <th>START DATE</th>\n",
       "      <th>END DATE</th>\n",
       "      <th>PURPOSE</th>\n",
       "      <th>AMOUNT</th>\n",
       "    </tr>\n",
       "  </thead>\n",
       "  <tbody>\n",
       "    <tr>\n",
       "      <th>0</th>\n",
       "      <td>NaN</td>\n",
       "      <td>2018 OFFICE OF THE SPEAKER</td>\n",
       "      <td>OFFICIAL EXPENSES - LEADERSHIP</td>\n",
       "      <td>OTHER SERVICES</td>\n",
       "      <td>DETAIL</td>\n",
       "      <td>2018-04-16</td>\n",
       "      <td>AP</td>\n",
       "      <td>983888</td>\n",
       "      <td>CITI PCARD-TLF WISTERIA FLOWERS A</td>\n",
       "      <td>2018-03-01</td>\n",
       "      <td>2018-03-28</td>\n",
       "      <td>REPRESENTATIONAL EXPENSES</td>\n",
       "      <td>362.00</td>\n",
       "    </tr>\n",
       "    <tr>\n",
       "      <th>1</th>\n",
       "      <td>NaN</td>\n",
       "      <td>2018 OFFICE OF THE SPEAKER</td>\n",
       "      <td>OFFICIAL EXPENSES - LEADERSHIP</td>\n",
       "      <td>OTHER SERVICES</td>\n",
       "      <td>SUBTOTAL</td>\n",
       "      <td></td>\n",
       "      <td></td>\n",
       "      <td></td>\n",
       "      <td></td>\n",
       "      <td></td>\n",
       "      <td></td>\n",
       "      <td>OTHER SERVICES TOTALS:</td>\n",
       "      <td>362.00</td>\n",
       "    </tr>\n",
       "    <tr>\n",
       "      <th>2</th>\n",
       "      <td>NaN</td>\n",
       "      <td>2018 OFFICE OF THE SPEAKER</td>\n",
       "      <td>OFFICIAL EXPENSES - LEADERSHIP</td>\n",
       "      <td>OTHER SERVICES</td>\n",
       "      <td>SUBTOTAL</td>\n",
       "      <td></td>\n",
       "      <td></td>\n",
       "      <td></td>\n",
       "      <td></td>\n",
       "      <td></td>\n",
       "      <td></td>\n",
       "      <td>OFFICIAL EXPENSES - LEADERSHIP TOTALS:</td>\n",
       "      <td>362.00</td>\n",
       "    </tr>\n",
       "    <tr>\n",
       "      <th>3</th>\n",
       "      <td>NaN</td>\n",
       "      <td>2018 OFFICE OF THE SPEAKER</td>\n",
       "      <td>GENERAL EXPENDITURES</td>\n",
       "      <td>FRANKED MAIL</td>\n",
       "      <td>DETAIL</td>\n",
       "      <td>2018-06-26</td>\n",
       "      <td>AP</td>\n",
       "      <td>998542</td>\n",
       "      <td>UNITED STATES POSTAL SERVICE</td>\n",
       "      <td>2018-05-01</td>\n",
       "      <td>2018-05-31</td>\n",
       "      <td>FRANKED MAIL</td>\n",
       "      <td>133.07</td>\n",
       "    </tr>\n",
       "    <tr>\n",
       "      <th>4</th>\n",
       "      <td>NaN</td>\n",
       "      <td>2018 OFFICE OF THE SPEAKER</td>\n",
       "      <td>GENERAL EXPENDITURES</td>\n",
       "      <td>FRANKED MAIL</td>\n",
       "      <td>SUBTOTAL</td>\n",
       "      <td></td>\n",
       "      <td></td>\n",
       "      <td></td>\n",
       "      <td></td>\n",
       "      <td></td>\n",
       "      <td></td>\n",
       "      <td>FRANKED MAIL TOTALS:</td>\n",
       "      <td>133.07</td>\n",
       "    </tr>\n",
       "  </tbody>\n",
       "</table>\n",
       "</div>"
      ],
      "text/plain": [
       "  BIOGUIDE_ID                      OFFICE                         PROGRAM  \\\n",
       "0         NaN  2018 OFFICE OF THE SPEAKER  OFFICIAL EXPENSES - LEADERSHIP   \n",
       "1         NaN  2018 OFFICE OF THE SPEAKER  OFFICIAL EXPENSES - LEADERSHIP   \n",
       "2         NaN  2018 OFFICE OF THE SPEAKER  OFFICIAL EXPENSES - LEADERSHIP   \n",
       "3         NaN  2018 OFFICE OF THE SPEAKER            GENERAL EXPENDITURES   \n",
       "4         NaN  2018 OFFICE OF THE SPEAKER            GENERAL EXPENDITURES   \n",
       "\n",
       "  SORT SUBTOTAL DESCRIPTION SORT SEQUENCE TRANSACTION DATE DATA SOURCE  \\\n",
       "0            OTHER SERVICES        DETAIL       2018-04-16          AP   \n",
       "1            OTHER SERVICES      SUBTOTAL                                \n",
       "2            OTHER SERVICES      SUBTOTAL                                \n",
       "3              FRANKED MAIL        DETAIL       2018-06-26          AP   \n",
       "4              FRANKED MAIL      SUBTOTAL                                \n",
       "\n",
       "  DOCUMENT                              PAYEE  START DATE    END DATE  \\\n",
       "0   983888  CITI PCARD-TLF WISTERIA FLOWERS A  2018-03-01  2018-03-28   \n",
       "1                                                                       \n",
       "2                                                                       \n",
       "3   998542       UNITED STATES POSTAL SERVICE  2018-05-01  2018-05-31   \n",
       "4                                                                       \n",
       "\n",
       "                                  PURPOSE  AMOUNT  \n",
       "0               REPRESENTATIONAL EXPENSES  362.00  \n",
       "1                  OTHER SERVICES TOTALS:  362.00  \n",
       "2  OFFICIAL EXPENSES - LEADERSHIP TOTALS:  362.00  \n",
       "3                            FRANKED MAIL  133.07  \n",
       "4                    FRANKED MAIL TOTALS:  133.07  "
      ]
     },
     "execution_count": 8,
     "metadata": {},
     "output_type": "execute_result"
    }
   ],
   "source": [
    "df.head()"
   ]
  },
  {
   "cell_type": "code",
   "execution_count": 9,
   "metadata": {},
   "outputs": [],
   "source": [
    "df['END']= pd.to_datetime(df['END DATE'].replace('   ', np.nan),format='%Y-%m-%d') #, errors='ignore')\n",
    "\n",
    "#df['END DATE'] = pd.to_datetime(df[u'END DATE'])\n",
    "\n",
    "df[u'START'] = pd.to_datetime(df[u'START DATE'].replace('   ', np.nan), format='%Y-%m-%d')#, errors='ignore')\n",
    "# for each in df['END']:\n",
    "#     datetime.strptime(each, '%Y-%m-%d')\n",
    "\n",
    "df['COVERAGE PERIOD']=(df['END'] - df[u'START'])"
   ]
  },
  {
   "cell_type": "code",
   "execution_count": null,
   "metadata": {},
   "outputs": [],
   "source": []
  },
  {
   "cell_type": "markdown",
   "metadata": {},
   "source": [
    "### Standard Deviation"
   ]
  },
  {
   "cell_type": "code",
   "execution_count": 10,
   "metadata": {},
   "outputs": [
    {
     "data": {
      "text/plain": [
       "BIOGUIDE_ID                   81602\n",
       "OFFICE                       101979\n",
       "PROGRAM                      101979\n",
       "SORT SUBTOTAL DESCRIPTION    101979\n",
       "SORT SEQUENCE                101979\n",
       "TRANSACTION DATE             101977\n",
       "DATA SOURCE                  101979\n",
       "DOCUMENT                     101979\n",
       "PAYEE                        101979\n",
       "START DATE                   101977\n",
       "END DATE                     101977\n",
       "PURPOSE                      101979\n",
       "AMOUNT                       101979\n",
       "END                           94787\n",
       "START                         94787\n",
       "COVERAGE PERIOD               94787\n",
       "dtype: int64"
      ]
     },
     "execution_count": 10,
     "metadata": {},
     "output_type": "execute_result"
    }
   ],
   "source": [
    "df[(df[\"AMOUNT\"] > 0)].count()"
   ]
  },
  {
   "cell_type": "code",
   "execution_count": 11,
   "metadata": {},
   "outputs": [
    {
     "ename": "AttributeError",
     "evalue": "module 'pandas' has no attribute 'rolling_std'",
     "output_type": "error",
     "traceback": [
      "\u001b[1;31m---------------------------------------------------------------------------\u001b[0m",
      "\u001b[1;31mAttributeError\u001b[0m                            Traceback (most recent call last)",
      "\u001b[1;32m<ipython-input-11-f58c096c9c54>\u001b[0m in \u001b[0;36m<module>\u001b[1;34m\u001b[0m\n\u001b[1;32m----> 1\u001b[1;33m \u001b[0mdf\u001b[0m\u001b[1;33m[\u001b[0m\u001b[1;34m'STD'\u001b[0m\u001b[1;33m]\u001b[0m \u001b[1;33m=\u001b[0m \u001b[0mpd\u001b[0m\u001b[1;33m.\u001b[0m\u001b[0mrolling_std\u001b[0m\u001b[1;33m(\u001b[0m\u001b[0mdf\u001b[0m\u001b[1;33m[\u001b[0m\u001b[1;34m'COVERAGE PERIOD'\u001b[0m\u001b[1;33m]\u001b[0m\u001b[1;33m,\u001b[0m \u001b[1;36m94787\u001b[0m\u001b[1;33m,\u001b[0m \u001b[0mmin_periods\u001b[0m\u001b[1;33m=\u001b[0m\u001b[1;36m1\u001b[0m\u001b[1;33m)\u001b[0m\u001b[1;33m.\u001b[0m\u001b[0msum\u001b[0m\u001b[1;33m(\u001b[0m\u001b[1;33m)\u001b[0m\u001b[1;33m/\u001b[0m\u001b[1;36m97854\u001b[0m\u001b[1;33m\u001b[0m\u001b[1;33m\u001b[0m\u001b[0m\n\u001b[0m",
      "\u001b[1;31mAttributeError\u001b[0m: module 'pandas' has no attribute 'rolling_std'"
     ]
    }
   ],
   "source": [
    "df['STD'] = pd.rolling_std(df['COVERAGE PERIOD'], 94787, min_periods=1).sum()/97854"
   ]
  },
  {
   "cell_type": "code",
   "execution_count": 12,
   "metadata": {},
   "outputs": [
    {
     "data": {
      "text/html": [
       "<div>\n",
       "<style scoped>\n",
       "    .dataframe tbody tr th:only-of-type {\n",
       "        vertical-align: middle;\n",
       "    }\n",
       "\n",
       "    .dataframe tbody tr th {\n",
       "        vertical-align: top;\n",
       "    }\n",
       "\n",
       "    .dataframe thead th {\n",
       "        text-align: right;\n",
       "    }\n",
       "</style>\n",
       "<table border=\"1\" class=\"dataframe\">\n",
       "  <thead>\n",
       "    <tr style=\"text-align: right;\">\n",
       "      <th></th>\n",
       "      <th>count</th>\n",
       "      <th>mean</th>\n",
       "      <th>std</th>\n",
       "      <th>min</th>\n",
       "      <th>25%</th>\n",
       "      <th>50%</th>\n",
       "      <th>75%</th>\n",
       "      <th>max</th>\n",
       "    </tr>\n",
       "  </thead>\n",
       "  <tbody>\n",
       "    <tr>\n",
       "      <th>AMOUNT</th>\n",
       "      <td>105294</td>\n",
       "      <td>11427.2</td>\n",
       "      <td>360195</td>\n",
       "      <td>-1.57289e+06</td>\n",
       "      <td>45.17</td>\n",
       "      <td>212.48</td>\n",
       "      <td>1025</td>\n",
       "      <td>6.24572e+07</td>\n",
       "    </tr>\n",
       "    <tr>\n",
       "      <th>COVERAGE PERIOD</th>\n",
       "      <td>97854</td>\n",
       "      <td>27 days 02:27:16.544239</td>\n",
       "      <td>91 days 13:39:16.168718</td>\n",
       "      <td>0 days 00:00:00</td>\n",
       "      <td>1 days 00:00:00</td>\n",
       "      <td>29 days 00:00:00</td>\n",
       "      <td>30 days 00:00:00</td>\n",
       "      <td>25567 days 00:00:00</td>\n",
       "    </tr>\n",
       "  </tbody>\n",
       "</table>\n",
       "</div>"
      ],
      "text/plain": [
       "                  count                     mean                      std  \\\n",
       "AMOUNT           105294                  11427.2                   360195   \n",
       "COVERAGE PERIOD   97854  27 days 02:27:16.544239  91 days 13:39:16.168718   \n",
       "\n",
       "                             min              25%               50%  \\\n",
       "AMOUNT              -1.57289e+06            45.17            212.48   \n",
       "COVERAGE PERIOD  0 days 00:00:00  1 days 00:00:00  29 days 00:00:00   \n",
       "\n",
       "                              75%                  max  \n",
       "AMOUNT                       1025          6.24572e+07  \n",
       "COVERAGE PERIOD  30 days 00:00:00  25567 days 00:00:00  "
      ]
     },
     "execution_count": 12,
     "metadata": {},
     "output_type": "execute_result"
    }
   ],
   "source": [
    "df.describe().transpose()"
   ]
  },
  {
   "cell_type": "code",
   "execution_count": 13,
   "metadata": {},
   "outputs": [
    {
     "ename": "KeyError",
     "evalue": "'STD'",
     "output_type": "error",
     "traceback": [
      "\u001b[1;31m---------------------------------------------------------------------------\u001b[0m",
      "\u001b[1;31mKeyError\u001b[0m                                  Traceback (most recent call last)",
      "\u001b[1;32mD:\\Miniconda\\envs\\model\\lib\\site-packages\\pandas\\core\\indexes\\base.py\u001b[0m in \u001b[0;36mget_loc\u001b[1;34m(self, key, method, tolerance)\u001b[0m\n\u001b[0;32m   3077\u001b[0m             \u001b[1;32mtry\u001b[0m\u001b[1;33m:\u001b[0m\u001b[1;33m\u001b[0m\u001b[1;33m\u001b[0m\u001b[0m\n\u001b[1;32m-> 3078\u001b[1;33m                 \u001b[1;32mreturn\u001b[0m \u001b[0mself\u001b[0m\u001b[1;33m.\u001b[0m\u001b[0m_engine\u001b[0m\u001b[1;33m.\u001b[0m\u001b[0mget_loc\u001b[0m\u001b[1;33m(\u001b[0m\u001b[0mkey\u001b[0m\u001b[1;33m)\u001b[0m\u001b[1;33m\u001b[0m\u001b[1;33m\u001b[0m\u001b[0m\n\u001b[0m\u001b[0;32m   3079\u001b[0m             \u001b[1;32mexcept\u001b[0m \u001b[0mKeyError\u001b[0m\u001b[1;33m:\u001b[0m\u001b[1;33m\u001b[0m\u001b[1;33m\u001b[0m\u001b[0m\n",
      "\u001b[1;32mpandas\\_libs\\index.pyx\u001b[0m in \u001b[0;36mpandas._libs.index.IndexEngine.get_loc\u001b[1;34m()\u001b[0m\n",
      "\u001b[1;32mpandas\\_libs\\index.pyx\u001b[0m in \u001b[0;36mpandas._libs.index.IndexEngine.get_loc\u001b[1;34m()\u001b[0m\n",
      "\u001b[1;32mpandas\\_libs\\hashtable_class_helper.pxi\u001b[0m in \u001b[0;36mpandas._libs.hashtable.PyObjectHashTable.get_item\u001b[1;34m()\u001b[0m\n",
      "\u001b[1;32mpandas\\_libs\\hashtable_class_helper.pxi\u001b[0m in \u001b[0;36mpandas._libs.hashtable.PyObjectHashTable.get_item\u001b[1;34m()\u001b[0m\n",
      "\u001b[1;31mKeyError\u001b[0m: 'STD'",
      "\nDuring handling of the above exception, another exception occurred:\n",
      "\u001b[1;31mKeyError\u001b[0m                                  Traceback (most recent call last)",
      "\u001b[1;32m<ipython-input-13-1d19b10a1b03>\u001b[0m in \u001b[0;36m<module>\u001b[1;34m\u001b[0m\n\u001b[1;32m----> 1\u001b[1;33m \u001b[0mdf\u001b[0m\u001b[1;33m[\u001b[0m\u001b[1;34m'STD'\u001b[0m\u001b[1;33m]\u001b[0m\u001b[1;33m.\u001b[0m\u001b[0mplot\u001b[0m\u001b[1;33m(\u001b[0m\u001b[1;33m)\u001b[0m\u001b[1;33m\u001b[0m\u001b[1;33m\u001b[0m\u001b[0m\n\u001b[0m",
      "\u001b[1;32mD:\\Miniconda\\envs\\model\\lib\\site-packages\\pandas\\core\\frame.py\u001b[0m in \u001b[0;36m__getitem__\u001b[1;34m(self, key)\u001b[0m\n\u001b[0;32m   2686\u001b[0m             \u001b[1;32mreturn\u001b[0m \u001b[0mself\u001b[0m\u001b[1;33m.\u001b[0m\u001b[0m_getitem_multilevel\u001b[0m\u001b[1;33m(\u001b[0m\u001b[0mkey\u001b[0m\u001b[1;33m)\u001b[0m\u001b[1;33m\u001b[0m\u001b[1;33m\u001b[0m\u001b[0m\n\u001b[0;32m   2687\u001b[0m         \u001b[1;32melse\u001b[0m\u001b[1;33m:\u001b[0m\u001b[1;33m\u001b[0m\u001b[1;33m\u001b[0m\u001b[0m\n\u001b[1;32m-> 2688\u001b[1;33m             \u001b[1;32mreturn\u001b[0m \u001b[0mself\u001b[0m\u001b[1;33m.\u001b[0m\u001b[0m_getitem_column\u001b[0m\u001b[1;33m(\u001b[0m\u001b[0mkey\u001b[0m\u001b[1;33m)\u001b[0m\u001b[1;33m\u001b[0m\u001b[1;33m\u001b[0m\u001b[0m\n\u001b[0m\u001b[0;32m   2689\u001b[0m \u001b[1;33m\u001b[0m\u001b[0m\n\u001b[0;32m   2690\u001b[0m     \u001b[1;32mdef\u001b[0m \u001b[0m_getitem_column\u001b[0m\u001b[1;33m(\u001b[0m\u001b[0mself\u001b[0m\u001b[1;33m,\u001b[0m \u001b[0mkey\u001b[0m\u001b[1;33m)\u001b[0m\u001b[1;33m:\u001b[0m\u001b[1;33m\u001b[0m\u001b[1;33m\u001b[0m\u001b[0m\n",
      "\u001b[1;32mD:\\Miniconda\\envs\\model\\lib\\site-packages\\pandas\\core\\frame.py\u001b[0m in \u001b[0;36m_getitem_column\u001b[1;34m(self, key)\u001b[0m\n\u001b[0;32m   2693\u001b[0m         \u001b[1;31m# get column\u001b[0m\u001b[1;33m\u001b[0m\u001b[1;33m\u001b[0m\u001b[1;33m\u001b[0m\u001b[0m\n\u001b[0;32m   2694\u001b[0m         \u001b[1;32mif\u001b[0m \u001b[0mself\u001b[0m\u001b[1;33m.\u001b[0m\u001b[0mcolumns\u001b[0m\u001b[1;33m.\u001b[0m\u001b[0mis_unique\u001b[0m\u001b[1;33m:\u001b[0m\u001b[1;33m\u001b[0m\u001b[1;33m\u001b[0m\u001b[0m\n\u001b[1;32m-> 2695\u001b[1;33m             \u001b[1;32mreturn\u001b[0m \u001b[0mself\u001b[0m\u001b[1;33m.\u001b[0m\u001b[0m_get_item_cache\u001b[0m\u001b[1;33m(\u001b[0m\u001b[0mkey\u001b[0m\u001b[1;33m)\u001b[0m\u001b[1;33m\u001b[0m\u001b[1;33m\u001b[0m\u001b[0m\n\u001b[0m\u001b[0;32m   2696\u001b[0m \u001b[1;33m\u001b[0m\u001b[0m\n\u001b[0;32m   2697\u001b[0m         \u001b[1;31m# duplicate columns & possible reduce dimensionality\u001b[0m\u001b[1;33m\u001b[0m\u001b[1;33m\u001b[0m\u001b[1;33m\u001b[0m\u001b[0m\n",
      "\u001b[1;32mD:\\Miniconda\\envs\\model\\lib\\site-packages\\pandas\\core\\generic.py\u001b[0m in \u001b[0;36m_get_item_cache\u001b[1;34m(self, item)\u001b[0m\n\u001b[0;32m   2487\u001b[0m         \u001b[0mres\u001b[0m \u001b[1;33m=\u001b[0m \u001b[0mcache\u001b[0m\u001b[1;33m.\u001b[0m\u001b[0mget\u001b[0m\u001b[1;33m(\u001b[0m\u001b[0mitem\u001b[0m\u001b[1;33m)\u001b[0m\u001b[1;33m\u001b[0m\u001b[1;33m\u001b[0m\u001b[0m\n\u001b[0;32m   2488\u001b[0m         \u001b[1;32mif\u001b[0m \u001b[0mres\u001b[0m \u001b[1;32mis\u001b[0m \u001b[1;32mNone\u001b[0m\u001b[1;33m:\u001b[0m\u001b[1;33m\u001b[0m\u001b[1;33m\u001b[0m\u001b[0m\n\u001b[1;32m-> 2489\u001b[1;33m             \u001b[0mvalues\u001b[0m \u001b[1;33m=\u001b[0m \u001b[0mself\u001b[0m\u001b[1;33m.\u001b[0m\u001b[0m_data\u001b[0m\u001b[1;33m.\u001b[0m\u001b[0mget\u001b[0m\u001b[1;33m(\u001b[0m\u001b[0mitem\u001b[0m\u001b[1;33m)\u001b[0m\u001b[1;33m\u001b[0m\u001b[1;33m\u001b[0m\u001b[0m\n\u001b[0m\u001b[0;32m   2490\u001b[0m             \u001b[0mres\u001b[0m \u001b[1;33m=\u001b[0m \u001b[0mself\u001b[0m\u001b[1;33m.\u001b[0m\u001b[0m_box_item_values\u001b[0m\u001b[1;33m(\u001b[0m\u001b[0mitem\u001b[0m\u001b[1;33m,\u001b[0m \u001b[0mvalues\u001b[0m\u001b[1;33m)\u001b[0m\u001b[1;33m\u001b[0m\u001b[1;33m\u001b[0m\u001b[0m\n\u001b[0;32m   2491\u001b[0m             \u001b[0mcache\u001b[0m\u001b[1;33m[\u001b[0m\u001b[0mitem\u001b[0m\u001b[1;33m]\u001b[0m \u001b[1;33m=\u001b[0m \u001b[0mres\u001b[0m\u001b[1;33m\u001b[0m\u001b[1;33m\u001b[0m\u001b[0m\n",
      "\u001b[1;32mD:\\Miniconda\\envs\\model\\lib\\site-packages\\pandas\\core\\internals.py\u001b[0m in \u001b[0;36mget\u001b[1;34m(self, item, fastpath)\u001b[0m\n\u001b[0;32m   4113\u001b[0m \u001b[1;33m\u001b[0m\u001b[0m\n\u001b[0;32m   4114\u001b[0m             \u001b[1;32mif\u001b[0m \u001b[1;32mnot\u001b[0m \u001b[0misna\u001b[0m\u001b[1;33m(\u001b[0m\u001b[0mitem\u001b[0m\u001b[1;33m)\u001b[0m\u001b[1;33m:\u001b[0m\u001b[1;33m\u001b[0m\u001b[1;33m\u001b[0m\u001b[0m\n\u001b[1;32m-> 4115\u001b[1;33m                 \u001b[0mloc\u001b[0m \u001b[1;33m=\u001b[0m \u001b[0mself\u001b[0m\u001b[1;33m.\u001b[0m\u001b[0mitems\u001b[0m\u001b[1;33m.\u001b[0m\u001b[0mget_loc\u001b[0m\u001b[1;33m(\u001b[0m\u001b[0mitem\u001b[0m\u001b[1;33m)\u001b[0m\u001b[1;33m\u001b[0m\u001b[1;33m\u001b[0m\u001b[0m\n\u001b[0m\u001b[0;32m   4116\u001b[0m             \u001b[1;32melse\u001b[0m\u001b[1;33m:\u001b[0m\u001b[1;33m\u001b[0m\u001b[1;33m\u001b[0m\u001b[0m\n\u001b[0;32m   4117\u001b[0m                 \u001b[0mindexer\u001b[0m \u001b[1;33m=\u001b[0m \u001b[0mnp\u001b[0m\u001b[1;33m.\u001b[0m\u001b[0marange\u001b[0m\u001b[1;33m(\u001b[0m\u001b[0mlen\u001b[0m\u001b[1;33m(\u001b[0m\u001b[0mself\u001b[0m\u001b[1;33m.\u001b[0m\u001b[0mitems\u001b[0m\u001b[1;33m)\u001b[0m\u001b[1;33m)\u001b[0m\u001b[1;33m[\u001b[0m\u001b[0misna\u001b[0m\u001b[1;33m(\u001b[0m\u001b[0mself\u001b[0m\u001b[1;33m.\u001b[0m\u001b[0mitems\u001b[0m\u001b[1;33m)\u001b[0m\u001b[1;33m]\u001b[0m\u001b[1;33m\u001b[0m\u001b[1;33m\u001b[0m\u001b[0m\n",
      "\u001b[1;32mD:\\Miniconda\\envs\\model\\lib\\site-packages\\pandas\\core\\indexes\\base.py\u001b[0m in \u001b[0;36mget_loc\u001b[1;34m(self, key, method, tolerance)\u001b[0m\n\u001b[0;32m   3078\u001b[0m                 \u001b[1;32mreturn\u001b[0m \u001b[0mself\u001b[0m\u001b[1;33m.\u001b[0m\u001b[0m_engine\u001b[0m\u001b[1;33m.\u001b[0m\u001b[0mget_loc\u001b[0m\u001b[1;33m(\u001b[0m\u001b[0mkey\u001b[0m\u001b[1;33m)\u001b[0m\u001b[1;33m\u001b[0m\u001b[1;33m\u001b[0m\u001b[0m\n\u001b[0;32m   3079\u001b[0m             \u001b[1;32mexcept\u001b[0m \u001b[0mKeyError\u001b[0m\u001b[1;33m:\u001b[0m\u001b[1;33m\u001b[0m\u001b[1;33m\u001b[0m\u001b[0m\n\u001b[1;32m-> 3080\u001b[1;33m                 \u001b[1;32mreturn\u001b[0m \u001b[0mself\u001b[0m\u001b[1;33m.\u001b[0m\u001b[0m_engine\u001b[0m\u001b[1;33m.\u001b[0m\u001b[0mget_loc\u001b[0m\u001b[1;33m(\u001b[0m\u001b[0mself\u001b[0m\u001b[1;33m.\u001b[0m\u001b[0m_maybe_cast_indexer\u001b[0m\u001b[1;33m(\u001b[0m\u001b[0mkey\u001b[0m\u001b[1;33m)\u001b[0m\u001b[1;33m)\u001b[0m\u001b[1;33m\u001b[0m\u001b[1;33m\u001b[0m\u001b[0m\n\u001b[0m\u001b[0;32m   3081\u001b[0m \u001b[1;33m\u001b[0m\u001b[0m\n\u001b[0;32m   3082\u001b[0m         \u001b[0mindexer\u001b[0m \u001b[1;33m=\u001b[0m \u001b[0mself\u001b[0m\u001b[1;33m.\u001b[0m\u001b[0mget_indexer\u001b[0m\u001b[1;33m(\u001b[0m\u001b[1;33m[\u001b[0m\u001b[0mkey\u001b[0m\u001b[1;33m]\u001b[0m\u001b[1;33m,\u001b[0m \u001b[0mmethod\u001b[0m\u001b[1;33m=\u001b[0m\u001b[0mmethod\u001b[0m\u001b[1;33m,\u001b[0m \u001b[0mtolerance\u001b[0m\u001b[1;33m=\u001b[0m\u001b[0mtolerance\u001b[0m\u001b[1;33m)\u001b[0m\u001b[1;33m\u001b[0m\u001b[1;33m\u001b[0m\u001b[0m\n",
      "\u001b[1;32mpandas\\_libs\\index.pyx\u001b[0m in \u001b[0;36mpandas._libs.index.IndexEngine.get_loc\u001b[1;34m()\u001b[0m\n",
      "\u001b[1;32mpandas\\_libs\\index.pyx\u001b[0m in \u001b[0;36mpandas._libs.index.IndexEngine.get_loc\u001b[1;34m()\u001b[0m\n",
      "\u001b[1;32mpandas\\_libs\\hashtable_class_helper.pxi\u001b[0m in \u001b[0;36mpandas._libs.hashtable.PyObjectHashTable.get_item\u001b[1;34m()\u001b[0m\n",
      "\u001b[1;32mpandas\\_libs\\hashtable_class_helper.pxi\u001b[0m in \u001b[0;36mpandas._libs.hashtable.PyObjectHashTable.get_item\u001b[1;34m()\u001b[0m\n",
      "\u001b[1;31mKeyError\u001b[0m: 'STD'"
     ]
    }
   ],
   "source": [
    "df['STD'].plot()"
   ]
  },
  {
   "cell_type": "code",
   "execution_count": 14,
   "metadata": {},
   "outputs": [
    {
     "data": {
      "text/html": [
       "<div>\n",
       "<style scoped>\n",
       "    .dataframe tbody tr th:only-of-type {\n",
       "        vertical-align: middle;\n",
       "    }\n",
       "\n",
       "    .dataframe tbody tr th {\n",
       "        vertical-align: top;\n",
       "    }\n",
       "\n",
       "    .dataframe thead th {\n",
       "        text-align: right;\n",
       "    }\n",
       "</style>\n",
       "<table border=\"1\" class=\"dataframe\">\n",
       "  <thead>\n",
       "    <tr style=\"text-align: right;\">\n",
       "      <th></th>\n",
       "      <th>BIOGUIDE_ID</th>\n",
       "      <th>OFFICE</th>\n",
       "      <th>PROGRAM</th>\n",
       "      <th>SORT SUBTOTAL DESCRIPTION</th>\n",
       "      <th>SORT SEQUENCE</th>\n",
       "      <th>TRANSACTION DATE</th>\n",
       "      <th>DATA SOURCE</th>\n",
       "      <th>DOCUMENT</th>\n",
       "      <th>PAYEE</th>\n",
       "      <th>START DATE</th>\n",
       "      <th>END DATE</th>\n",
       "      <th>PURPOSE</th>\n",
       "      <th>AMOUNT</th>\n",
       "      <th>END</th>\n",
       "      <th>START</th>\n",
       "      <th>COVERAGE PERIOD</th>\n",
       "    </tr>\n",
       "  </thead>\n",
       "  <tbody>\n",
       "    <tr>\n",
       "      <th>0</th>\n",
       "      <td>NaN</td>\n",
       "      <td>2018 OFFICE OF THE SPEAKER</td>\n",
       "      <td>OFFICIAL EXPENSES - LEADERSHIP</td>\n",
       "      <td>OTHER SERVICES</td>\n",
       "      <td>DETAIL</td>\n",
       "      <td>2018-04-16</td>\n",
       "      <td>AP</td>\n",
       "      <td>983888</td>\n",
       "      <td>CITI PCARD-TLF WISTERIA FLOWERS A</td>\n",
       "      <td>2018-03-01</td>\n",
       "      <td>2018-03-28</td>\n",
       "      <td>REPRESENTATIONAL EXPENSES</td>\n",
       "      <td>362.00</td>\n",
       "      <td>2018-03-28</td>\n",
       "      <td>2018-03-01</td>\n",
       "      <td>27 days</td>\n",
       "    </tr>\n",
       "    <tr>\n",
       "      <th>1</th>\n",
       "      <td>NaN</td>\n",
       "      <td>2018 OFFICE OF THE SPEAKER</td>\n",
       "      <td>OFFICIAL EXPENSES - LEADERSHIP</td>\n",
       "      <td>OTHER SERVICES</td>\n",
       "      <td>SUBTOTAL</td>\n",
       "      <td></td>\n",
       "      <td></td>\n",
       "      <td></td>\n",
       "      <td></td>\n",
       "      <td></td>\n",
       "      <td></td>\n",
       "      <td>OTHER SERVICES TOTALS:</td>\n",
       "      <td>362.00</td>\n",
       "      <td>NaT</td>\n",
       "      <td>NaT</td>\n",
       "      <td>NaT</td>\n",
       "    </tr>\n",
       "    <tr>\n",
       "      <th>2</th>\n",
       "      <td>NaN</td>\n",
       "      <td>2018 OFFICE OF THE SPEAKER</td>\n",
       "      <td>OFFICIAL EXPENSES - LEADERSHIP</td>\n",
       "      <td>OTHER SERVICES</td>\n",
       "      <td>SUBTOTAL</td>\n",
       "      <td></td>\n",
       "      <td></td>\n",
       "      <td></td>\n",
       "      <td></td>\n",
       "      <td></td>\n",
       "      <td></td>\n",
       "      <td>OFFICIAL EXPENSES - LEADERSHIP TOTALS:</td>\n",
       "      <td>362.00</td>\n",
       "      <td>NaT</td>\n",
       "      <td>NaT</td>\n",
       "      <td>NaT</td>\n",
       "    </tr>\n",
       "    <tr>\n",
       "      <th>3</th>\n",
       "      <td>NaN</td>\n",
       "      <td>2018 OFFICE OF THE SPEAKER</td>\n",
       "      <td>GENERAL EXPENDITURES</td>\n",
       "      <td>FRANKED MAIL</td>\n",
       "      <td>DETAIL</td>\n",
       "      <td>2018-06-26</td>\n",
       "      <td>AP</td>\n",
       "      <td>998542</td>\n",
       "      <td>UNITED STATES POSTAL SERVICE</td>\n",
       "      <td>2018-05-01</td>\n",
       "      <td>2018-05-31</td>\n",
       "      <td>FRANKED MAIL</td>\n",
       "      <td>133.07</td>\n",
       "      <td>2018-05-31</td>\n",
       "      <td>2018-05-01</td>\n",
       "      <td>30 days</td>\n",
       "    </tr>\n",
       "    <tr>\n",
       "      <th>4</th>\n",
       "      <td>NaN</td>\n",
       "      <td>2018 OFFICE OF THE SPEAKER</td>\n",
       "      <td>GENERAL EXPENDITURES</td>\n",
       "      <td>FRANKED MAIL</td>\n",
       "      <td>SUBTOTAL</td>\n",
       "      <td></td>\n",
       "      <td></td>\n",
       "      <td></td>\n",
       "      <td></td>\n",
       "      <td></td>\n",
       "      <td></td>\n",
       "      <td>FRANKED MAIL TOTALS:</td>\n",
       "      <td>133.07</td>\n",
       "      <td>NaT</td>\n",
       "      <td>NaT</td>\n",
       "      <td>NaT</td>\n",
       "    </tr>\n",
       "  </tbody>\n",
       "</table>\n",
       "</div>"
      ],
      "text/plain": [
       "  BIOGUIDE_ID                      OFFICE                         PROGRAM  \\\n",
       "0         NaN  2018 OFFICE OF THE SPEAKER  OFFICIAL EXPENSES - LEADERSHIP   \n",
       "1         NaN  2018 OFFICE OF THE SPEAKER  OFFICIAL EXPENSES - LEADERSHIP   \n",
       "2         NaN  2018 OFFICE OF THE SPEAKER  OFFICIAL EXPENSES - LEADERSHIP   \n",
       "3         NaN  2018 OFFICE OF THE SPEAKER            GENERAL EXPENDITURES   \n",
       "4         NaN  2018 OFFICE OF THE SPEAKER            GENERAL EXPENDITURES   \n",
       "\n",
       "  SORT SUBTOTAL DESCRIPTION SORT SEQUENCE TRANSACTION DATE DATA SOURCE  \\\n",
       "0            OTHER SERVICES        DETAIL       2018-04-16          AP   \n",
       "1            OTHER SERVICES      SUBTOTAL                                \n",
       "2            OTHER SERVICES      SUBTOTAL                                \n",
       "3              FRANKED MAIL        DETAIL       2018-06-26          AP   \n",
       "4              FRANKED MAIL      SUBTOTAL                                \n",
       "\n",
       "  DOCUMENT                              PAYEE  START DATE    END DATE  \\\n",
       "0   983888  CITI PCARD-TLF WISTERIA FLOWERS A  2018-03-01  2018-03-28   \n",
       "1                                                                       \n",
       "2                                                                       \n",
       "3   998542       UNITED STATES POSTAL SERVICE  2018-05-01  2018-05-31   \n",
       "4                                                                       \n",
       "\n",
       "                                  PURPOSE  AMOUNT        END      START  \\\n",
       "0               REPRESENTATIONAL EXPENSES  362.00 2018-03-28 2018-03-01   \n",
       "1                  OTHER SERVICES TOTALS:  362.00        NaT        NaT   \n",
       "2  OFFICIAL EXPENSES - LEADERSHIP TOTALS:  362.00        NaT        NaT   \n",
       "3                            FRANKED MAIL  133.07 2018-05-31 2018-05-01   \n",
       "4                    FRANKED MAIL TOTALS:  133.07        NaT        NaT   \n",
       "\n",
       "  COVERAGE PERIOD  \n",
       "0         27 days  \n",
       "1             NaT  \n",
       "2             NaT  \n",
       "3         30 days  \n",
       "4             NaT  "
      ]
     },
     "execution_count": 14,
     "metadata": {},
     "output_type": "execute_result"
    }
   ],
   "source": [
    "df.head()"
   ]
  },
  {
   "cell_type": "markdown",
   "metadata": {},
   "source": [
    "### What was the average annual expenditure with between \"STARET DATE\" AND INCLDUSIVE \"END DATE\""
   ]
  },
  {
   "cell_type": "code",
   "execution_count": 15,
   "metadata": {},
   "outputs": [],
   "source": [
    "START_DATE = datetime.strptime('2010-01-01','%Y-%m-%d')\n",
    "\n",
    "END_DATE = datetime.strptime('2016-12-31','%Y-%m-%d')\n",
    "\n",
    "# creating a mask with the required values\n",
    "mask = (df['START'] >START_DATE) &(df['END'] <= END_DATE) &(df['AMOUNT'] > 1)"
   ]
  },
  {
   "cell_type": "code",
   "execution_count": 16,
   "metadata": {},
   "outputs": [],
   "source": [
    "# assigning the value\n",
    "data = df.loc[mask]"
   ]
  },
  {
   "cell_type": "code",
   "execution_count": 17,
   "metadata": {},
   "outputs": [
    {
     "data": {
      "text/plain": [
       "5478.188333333333"
      ]
     },
     "execution_count": 17,
     "metadata": {},
     "output_type": "execute_result"
    }
   ],
   "source": [
    "# the average annual expenditure\n",
    "data['AMOUNT'].sum()/12"
   ]
  },
  {
   "cell_type": "markdown",
   "metadata": {},
   "source": [
    "### Find the 'OFFICE' with the highest total expenditures with a 'START DATE' and 'PURPOSE' that accounts for the highest total expenditures. What fraction of the total expenditures (all records, all offices) with a 'START DATE' in 2016 do the expenditures amount to?"
   ]
  },
  {
   "cell_type": "code",
   "execution_count": 18,
   "metadata": {},
   "outputs": [
    {
     "ename": "SyntaxError",
     "evalue": "invalid syntax (<ipython-input-18-78de9a3887f6>, line 12)",
     "output_type": "error",
     "traceback": [
      "\u001b[1;36m  File \u001b[1;32m\"<ipython-input-18-78de9a3887f6>\"\u001b[1;36m, line \u001b[1;32m12\u001b[0m\n\u001b[1;33m    print data.groupby(['OFFICE','PURPOSE'], as_index=False)['AMOUNT'].max()[:1]\u001b[0m\n\u001b[1;37m             ^\u001b[0m\n\u001b[1;31mSyntaxError\u001b[0m\u001b[1;31m:\u001b[0m invalid syntax\n"
     ]
    }
   ],
   "source": [
    "START_DATE = datetime.strptime('2016-01-01','%Y-%m-%d')\n",
    "# creating a mask\n",
    "mask = (df['START'] > START_DATE)\n",
    "\n",
    "# seleck the data with the mask\n",
    "data = df[mask]\n",
    "# data1 = df.loc[mask]\n",
    "# data1.loc[data1['AMOUNT'].idxmax()]\n",
    "# data1['AMOUNT'].max()\n",
    "\n",
    "# groupby the required information and select the first row\n",
    "print data.groupby(['OFFICE','PURPOSE'], as_index=False)['AMOUNT'].max()[:1]\n",
    "amount = data.groupby(['OFFICE','PURPOSE'], as_index=False)['AMOUNT'].max()[:1][\"AMOUNT\"]\n",
    "print '\\n'\n",
    "total = data['AMOUNT'].sum()\n",
    "print \" the total amount\",data['AMOUNT'].sum()\n",
    "\n",
    "#the fraction of the high amount to total ammount (high amount)/ (total amount)\n",
    "print \"here is the fraction: \", amount/total\n"
   ]
  },
  {
   "cell_type": "markdown",
   "metadata": {},
   "source": [
    "### What was the highest average staff salary among all representatives in 2016? Assume staff sizes is equal to the number of unique payees in the 'PERSONNEL COMPENSATION' category for each representative."
   ]
  },
  {
   "cell_type": "code",
   "execution_count": 19,
   "metadata": {},
   "outputs": [],
   "source": [
    "# getting the number of staff\n",
    "staff = pd.DataFrame(data = df[mask]['PAYEE'].unique())\n",
    "\n",
    "# gettting the staff size\n",
    "staff_sizes = staff.count()\n",
    "\n",
    "#df[mask]\n",
    "\n",
    "# df_payee = pd.DataFrame(data=(df[mask].groupby(['PAYEE'], as_index=False)))\n",
    "\n",
    "# Assuming the staff sizes is equal to the number of unique payess\n",
    "# df_payee\n",
    "# print df_payee.unique()\n",
    "#['AMOUNT'].max()"
   ]
  },
  {
   "cell_type": "code",
   "execution_count": null,
   "metadata": {},
   "outputs": [],
   "source": []
  },
  {
   "cell_type": "markdown",
   "metadata": {},
   "source": []
  },
  {
   "cell_type": "markdown",
   "metadata": {},
   "source": [
    "## Section 2: You have a deck with N different playing cards, equally distributed amongst M suits. You draw all cards without putting any back in the deck. After drawing the first card, you compare the suit of each subsequent card drawn with the suit of the card drawn immediately before. If the suits match, you get a point. Otherwise, you get no points. Please answer the following questions about the total number of points, P, at the end of the process."
   ]
  },
  {
   "cell_type": "markdown",
   "metadata": {},
   "source": [
    "### What is the mean of P when N=26 and M=2?"
   ]
  },
  {
   "cell_type": "code",
   "execution_count": 20,
   "metadata": {},
   "outputs": [
    {
     "data": {
      "text/plain": [
       "0.003205128205128205"
      ]
     },
     "execution_count": 20,
     "metadata": {},
     "output_type": "execute_result"
    }
   ],
   "source": [
    "(1.0/26.0)*(1.0/12.0)"
   ]
  },
  {
   "cell_type": "code",
   "execution_count": 21,
   "metadata": {},
   "outputs": [
    {
     "data": {
      "text/plain": [
       "0.9967948717948718"
      ]
     },
     "execution_count": 21,
     "metadata": {},
     "output_type": "execute_result"
    }
   ],
   "source": [
    "np.sqrt(np.mean((1.0-0.003205128205128205))**2)"
   ]
  },
  {
   "cell_type": "code",
   "execution_count": 22,
   "metadata": {},
   "outputs": [
    {
     "data": {
      "text/plain": [
       "0.34100274725274726"
      ]
     },
     "execution_count": 22,
     "metadata": {},
     "output_type": "execute_result"
    }
   ],
   "source": [
    "(1.0/26.0)*(1.0/12.0) + (1.0/24.0)*(1.0/11.0) +(1.0/22.0)*(1.0/10.0)+(1.0/20.0)*(1.0/9.0) + \\\n",
    "(1.0/18.0)*(1.0/8.0) +(1.0/16.0)*(1.0/7.0) +(1.0/16.0)*(1.0/6.0) +(1.0/14.0)*(1.0/5.0) + \\\n",
    "(1.0/12.0)*(1.0/4.0)+(1.0/10.0)*(1.0/3.0)+(1.0/8.0)*(1.0/2.0) +(1.0/6.0)*(1.0/1.0)"
   ]
  },
  {
   "cell_type": "code",
   "execution_count": 23,
   "metadata": {},
   "outputs": [
    {
     "data": {
      "text/plain": [
       "0.03296703296703297"
      ]
     },
     "execution_count": 23,
     "metadata": {},
     "output_type": "execute_result"
    }
   ],
   "source": [
    "(1.0/26.0)*(1.0/12.0) + (1.0/24.0)*(1.0/11.0) +(1.0/22.0)*(1.0/10.0)+(1.0/20.0)*(1.0/9.0) + \\\n",
    "(1.0/18.0)*(1.0/8.0) +(1.0/16.0)*(1.0/7.0)"
   ]
  },
  {
   "cell_type": "code",
   "execution_count": 24,
   "metadata": {},
   "outputs": [
    {
     "data": {
      "text/plain": [
       "0.34100274725274726"
      ]
     },
     "execution_count": 24,
     "metadata": {},
     "output_type": "execute_result"
    }
   ],
   "source": [
    "((0.34100274725274726)*(0.03296703296703297))/0.03296703296703297"
   ]
  },
  {
   "cell_type": "markdown",
   "metadata": {},
   "source": [
    "### What is the mean of P when N=52 and M=4?"
   ]
  },
  {
   "cell_type": "code",
   "execution_count": 25,
   "metadata": {},
   "outputs": [
    {
     "data": {
      "text/plain": [
       "0.0016025641025641025"
      ]
     },
     "execution_count": 25,
     "metadata": {},
     "output_type": "execute_result"
    }
   ],
   "source": [
    "(1.0/52.0)*(1.0/12.0)"
   ]
  },
  {
   "cell_type": "code",
   "execution_count": 26,
   "metadata": {},
   "outputs": [
    {
     "data": {
      "text/plain": [
       "0.9983974358974359"
      ]
     },
     "execution_count": 26,
     "metadata": {},
     "output_type": "execute_result"
    }
   ],
   "source": [
    "np.sqrt(np.mean((1.0-0.0016025641025641025))**2)"
   ]
  },
  {
   "cell_type": "code",
   "execution_count": 27,
   "metadata": {},
   "outputs": [
    {
     "data": {
      "text/plain": [
       "0.08929833173421284"
      ]
     },
     "execution_count": 27,
     "metadata": {},
     "output_type": "execute_result"
    }
   ],
   "source": [
    "(1.0/52.0)*(1.0/12.0) + (1.0/50.0)*(1.0/11.0) +(1.0/48.0)*(1.0/10.0)+(1.0/46.0)*(1.0/9.0) + \\\n",
    "(1.0/44.0)*(1.0/8.0) +(1.0/42.0)*(1.0/7.0) +(1.0/40.0)*(1.0/6.0) +(1.0/38.0)*(1.0/5.0) + \\\n",
    "(1.0/36.0)*(1.0/4.0)+(1.0/34.0)*(1.0/3.0)+(1.0/32.0)*(1.0/2.0) +(1.0/30.0)*(1.0/1.0)"
   ]
  },
  {
   "cell_type": "code",
   "execution_count": 28,
   "metadata": {},
   "outputs": [
    {
     "data": {
      "text/plain": [
       "0.0141618078264041"
      ]
     },
     "execution_count": 28,
     "metadata": {},
     "output_type": "execute_result"
    }
   ],
   "source": [
    "(1.0/52.0)*(1.0/12.0) + (1.0/50.0)*(1.0/11.0) +(1.0/48.0)*(1.0/10.0)+(1.0/46.0)*(1.0/9.0) + \\\n",
    "(1.0/44.0)*(1.0/8.0) +(1.0/42.0)*(1.0/7.0)"
   ]
  },
  {
   "cell_type": "code",
   "execution_count": 32,
   "metadata": {},
   "outputs": [
    {
     "data": {
      "text/plain": [
       "0.001264625813238405"
      ]
     },
     "execution_count": 32,
     "metadata": {},
     "output_type": "execute_result"
    }
   ],
   "source": [
    "((0.08929833173421284)*(0.0141618078264041))"
   ]
  },
  {
   "cell_type": "code",
   "execution_count": null,
   "metadata": {},
   "outputs": [],
   "source": []
  }
 ],
 "metadata": {
  "kernelspec": {
   "display_name": "Python 3",
   "language": "python",
   "name": "python3"
  },
  "language_info": {
   "codemirror_mode": {
    "name": "ipython",
    "version": 3
   },
   "file_extension": ".py",
   "mimetype": "text/x-python",
   "name": "python",
   "nbconvert_exporter": "python",
   "pygments_lexer": "ipython3",
   "version": "3.6.7"
  }
 },
 "nbformat": 4,
 "nbformat_minor": 2
}
